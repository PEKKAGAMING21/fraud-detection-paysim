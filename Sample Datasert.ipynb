{
 "cells": [
  {
   "cell_type": "code",
   "execution_count": 2,
   "id": "04bd8908",
   "metadata": {},
   "outputs": [
    {
     "name": "stdout",
     "output_type": "stream",
     "text": [
      "Sample written to Fraud_sample.csv\n"
     ]
    },
    {
     "name": "stderr",
     "output_type": "stream",
     "text": [
      "C:\\Users\\SAMARTH GUPTA\\AppData\\Local\\Temp\\ipykernel_12760\\4034786045.py:8: FutureWarning: DataFrameGroupBy.apply operated on the grouping columns. This behavior is deprecated, and in a future version of pandas the grouping columns will be excluded from the operation. Either pass `include_groups=False` to exclude the groupings or explicitly select the grouping columns after groupby to silence this warning.\n",
      "  sample = df.groupby('isFraud', group_keys=False).apply(lambda x: x.sample(int(sample_size * len(x)/len(df)), random_state=42))\n"
     ]
    }
   ],
   "source": [
    "import pandas as pd\n",
    "\n",
    "# Adjust this path if the full file is inside a subfolder!\n",
    "df = pd.read_csv('Fraud.csv')\n",
    "\n",
    "# Sample 500 random rows, preserving class stratification (optional, if you'd like some frauds)\n",
    "sample_size = 500\n",
    "sample = df.groupby('isFraud', group_keys=False).apply(lambda x: x.sample(int(sample_size * len(x)/len(df)), random_state=42))\n",
    "\n",
    "# Save to a new file\n",
    "sample.to_csv('Fraud_sample.csv', index=False)\n",
    "print(\"Sample written to Fraud_sample.csv\")\n"
   ]
  }
 ],
 "metadata": {
  "kernelspec": {
   "display_name": "Python 3",
   "language": "python",
   "name": "python3"
  },
  "language_info": {
   "codemirror_mode": {
    "name": "ipython",
    "version": 3
   },
   "file_extension": ".py",
   "mimetype": "text/x-python",
   "name": "python",
   "nbconvert_exporter": "python",
   "pygments_lexer": "ipython3",
   "version": "3.10.7"
  }
 },
 "nbformat": 4,
 "nbformat_minor": 5
}
